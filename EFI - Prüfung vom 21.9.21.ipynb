{
 "cells": [
  {
   "cell_type": "markdown",
   "metadata": {},
   "source": [
    "# EFI: Prüfung vom 21.9.21 - Teil Datenstrukturen"
   ]
  },
  {
   "cell_type": "markdown",
   "metadata": {},
   "source": [
    "### Aufgabe 0\n",
    "Führe die folgenden Code-Zellen aus, um die für die Prüfung notwendigen Datenstrukturen zu erstellen."
   ]
  },
  {
   "cell_type": "markdown",
   "metadata": {},
   "source": [
    "`table_1` besteht aus einer Liste mit wiederum vier Listen aus vier Elementen"
   ]
  },
  {
   "cell_type": "code",
   "execution_count": null,
   "metadata": {},
   "outputs": [],
   "source": [
    "table_1 = [[\"a\", \"b\", \"c\", \"d\"], [9, 1, 8, 2], [\"e\", \"f\", \"g\", \"h\"], [7, 3, 6, 4]]\n",
    "table_1"
   ]
  },
  {
   "cell_type": "markdown",
   "metadata": {},
   "source": [
    "`table_2` besteht aus einer Liste mit wiederum drei Listen aus drei Elementen"
   ]
  },
  {
   "cell_type": "code",
   "execution_count": null,
   "metadata": {},
   "outputs": [],
   "source": [
    "table_2 = [[88, 45, 20], [50, 30, 11], [90, 121, 13]]\n",
    "table_2"
   ]
  },
  {
   "cell_type": "markdown",
   "metadata": {},
   "source": [
    "`table_3` ist ein Pandas DataFrame, welches die gewonnenen Medaillen pro Land der vergangenen Olympiade in Tokyo enthält."
   ]
  },
  {
   "cell_type": "code",
   "execution_count": null,
   "metadata": {},
   "outputs": [],
   "source": [
    "import pandas as pd\n",
    "table_3 = pd.read_csv(\"olympic-medals.csv\")\n",
    "table_3"
   ]
  },
  {
   "cell_type": "markdown",
   "metadata": {},
   "source": [
    "### Aufgabe 1\n",
    "\n",
    "> Schreibe in die folgende Code-Zelle den Befehl, welcher den Eintrag `f` aus `table_1` ausgibt.\n",
    "> * 1P für den korrekten Befehl"
   ]
  },
  {
   "cell_type": "code",
   "execution_count": null,
   "metadata": {},
   "outputs": [],
   "source": []
  },
  {
   "cell_type": "markdown",
   "metadata": {},
   "source": [
    "### Aufgabe 2\n",
    "\n",
    "> Schreibe in die folgende Code-Zelle den Befehl, welcher lediglich die Column mit den Ländernamen aus `table_3` selektiert und ausgibt.\n",
    "> * 1P für den korrekten Befehl"
   ]
  },
  {
   "cell_type": "code",
   "execution_count": null,
   "metadata": {},
   "outputs": [],
   "source": []
  },
  {
   "cell_type": "markdown",
   "metadata": {},
   "source": [
    "### Aufgabe 3\n",
    "> Ersetze die Einträge `[\"a\", \"b\", \"c\", \"d\"]` in `table_1` mit den Einträgen `[\"i\", \"j\", \"k\", \"l\"]`.\n",
    "> * 0.5P für das korrekte Ergebnis\n",
    "> * 0.5P für nur einen Befehl, bzw. nur eine Code-Zeile"
   ]
  },
  {
   "cell_type": "code",
   "execution_count": null,
   "metadata": {},
   "outputs": [],
   "source": []
  },
  {
   "cell_type": "markdown",
   "metadata": {},
   "source": [
    "### Aufgabe 4\n",
    "> Erstelle eine neue Column in `table_3`, welche den Namen `total` trägt und pro Land die Summe alles Medaillen (Gold + Silver + Bronze) enthält.\n",
    "> * 1P für das korrekte Ergebnis"
   ]
  },
  {
   "cell_type": "code",
   "execution_count": null,
   "metadata": {},
   "outputs": [],
   "source": []
  },
  {
   "cell_type": "markdown",
   "metadata": {},
   "source": [
    "### Aufgabe 5\n",
    "\n",
    "> Ersetze bei den Einträgen `9, 1, 8, 2` in `table_1` alle Einträge grösser als 5 mit dem Textzeichen `x`.\n",
    "> * 0.5P für das korrekte Ergebnis\n",
    "> * 0.5P für das Verwenden einer Iteration (z.B. for-Loop)"
   ]
  },
  {
   "cell_type": "code",
   "execution_count": null,
   "metadata": {},
   "outputs": [],
   "source": []
  },
  {
   "cell_type": "markdown",
   "metadata": {},
   "source": [
    "### Aufgabe 6\n",
    "> Schreibe in die folgende Code-Zelle den Befehl, welcher aus `table_3` lediglich die ersten drei Rows und die Columns `TEAM` und `Gold` selektiert/ausgibt.\n",
    "> * 1P für das korrekte Ergebnis"
   ]
  },
  {
   "cell_type": "code",
   "execution_count": null,
   "metadata": {},
   "outputs": [],
   "source": []
  },
  {
   "cell_type": "markdown",
   "metadata": {},
   "source": [
    "### Aufgabe 7\n",
    "\n",
    "> Befülle die Liste `res_1` mit den quadrierten Werten der Liste `[7, 3, 6, 4]` aus `table_1`.\n",
    "> * 0.5P für das korrekte Ergebnis\n",
    "> * 0.5P für das Verwenden einer Iteration (z.B. for-Loop)"
   ]
  },
  {
   "cell_type": "code",
   "execution_count": null,
   "metadata": {},
   "outputs": [],
   "source": [
    "res_1 = []"
   ]
  },
  {
   "cell_type": "markdown",
   "metadata": {},
   "source": [
    "### Aufgabe 8\n",
    "> Schreibe in die folgende Code-Zelle den Befehl, welcher von `table_3` die grösste Anzahl Silbermedaillen ausgibt, welche ein Land gewonnen hat.\n",
    "> * 1P für das korrekte Ergebnis"
   ]
  },
  {
   "cell_type": "code",
   "execution_count": null,
   "metadata": {},
   "outputs": [],
   "source": []
  },
  {
   "cell_type": "markdown",
   "metadata": {},
   "source": [
    "### Aufgabe 9\n",
    "\n",
    "> Schreibe den Code, welcher den kleinsten Wert aus `table_2` ausgibt. *Tipp: Du kannst davon ausgehen, dass der kleinste Wert sicherlich kleiner ist, als die Zahl 1000.*\n",
    "> * 0.5P für das Verwenden von verschachtelten Iterationen (z.B. for-Loops)\n",
    "> * 0.5P für eine Logik, welche den kleinsten Wert selektiert"
   ]
  },
  {
   "cell_type": "code",
   "execution_count": null,
   "metadata": {},
   "outputs": [],
   "source": []
  },
  {
   "cell_type": "markdown",
   "metadata": {},
   "source": [
    "### Aufgabe 10\n",
    "> Schreibe in die folgende Code-Zelle den Code, welcher die Rows von den Ländern ausgibt, welche mindestens 20 Gold, 20 Silber und 20 Bronzemedaillen gewonnen haben.\n",
    "> * 0.5P für den korrekten Syntax\n",
    "> * 0.5P für die korrekte Logik"
   ]
  },
  {
   "cell_type": "code",
   "execution_count": null,
   "metadata": {},
   "outputs": [],
   "source": []
  }
 ],
 "metadata": {
  "kernelspec": {
   "display_name": "Python 3",
   "language": "python",
   "name": "python3"
  },
  "language_info": {
   "codemirror_mode": {
    "name": "ipython",
    "version": 3
   },
   "file_extension": ".py",
   "mimetype": "text/x-python",
   "name": "python",
   "nbconvert_exporter": "python",
   "pygments_lexer": "ipython3",
   "version": "3.7.9"
  }
 },
 "nbformat": 4,
 "nbformat_minor": 4
}
