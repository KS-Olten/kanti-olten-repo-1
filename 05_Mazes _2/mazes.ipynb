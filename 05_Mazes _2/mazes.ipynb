{
 "cells": [
  {
   "cell_type": "markdown",
   "metadata": {},
   "source": [
    "# Dokumentation"
   ]
  },
  {
   "cell_type": "markdown",
   "metadata": {},
   "source": [
    "generate_random_maze\n",
    "\n",
    "                         Erstelle ein zufälliges Labyringth. Der mitgegebene Parameter bestimmt die Seitenlänge\n",
    "\n",
    "                         Rückgabewerte:\n",
    "                         \n",
    "                                 maze_grid: Eine Liste aus Listen, welche das Labyrinth darstellt. Wände haben den Wert 1,\n",
    "                                            Korridore den Wert 0\n",
    "                                            \n",
    "                                 maze_image: Ein Bild, welches das Labyrinth darstellt\n",
    "                                 \n",
    "                                 grid:      Eine Liste aus Listen, welche nur die Werte 0 enthält (selbe Dimensionen wie\n",
    "                                            maze_grid)\n",
    "                                            \n",
    "generate_example_maze\n",
    "\n",
    "                         Erstelle eines von 3 Beispiellabyrinthen (Parameter kann die Werte 1 bis 3 annehmen)\n",
    "\n",
    "                         Rückgabewerte:\n",
    "                                 \n",
    "                                 Dieselben wie bei generate_random_maze\n",
    "                                 \n",
    "\n",
    "print_pretty          \n",
    "\n",
    "                         Gebe eine Liste aus Listen als Raster formatiert aus. Parameter muss eine Liste aus Listen sein\n",
    "\n",
    "\n",
    "bfs_solve_maze        \n",
    "\n",
    "                         Löse ein Labyrinth mit BFS. Der mitgegebene Parameter muss eine Liste aus Listen sein\n",
    "                         (s. Rückgabewerte aus generate_random_maze). Falls der Parameter steps=True mitgegeben wird,\n",
    "                         werden die einzelnen Schritte der BFS ausgegeben\n",
    "                         \n",
    "                         Rückgabewerte:\n",
    "                         \n",
    "                                 solved_grid: Eine Liste aus Liste mit dem durchsuchten Labyrinth\n",
    "                                 \n",
    "                                 path: Eine Liste aus Tupel, welche die Indexe aller Schritte von Ende zum Start\n",
    "                                       (oder umgekehrt) enthält\n",
    "                                       \n",
    "plot_path             \n",
    "\n",
    "                         Erstellt ein Bild aus dem maze_grid (s. generate_random_maze), dem durchsuchten grid und dem\n",
    "                         path (s. bfs_solve_maze)\n",
    "                                 \n"
   ]
  },
  {
   "cell_type": "markdown",
   "metadata": {},
   "source": [
    "# Lade Funktionen"
   ]
  },
  {
   "cell_type": "code",
   "execution_count": 1,
   "metadata": {},
   "outputs": [],
   "source": [
    "from maze_generator import generate_example_maze, generate_random_maze, print_pretty, bfs_solve_maze, dfs_solve_maze, a_star_solve_maze, plot_path"
   ]
  },
  {
   "cell_type": "markdown",
   "metadata": {},
   "source": [
    "# Erstelle Labyringth"
   ]
  },
  {
   "cell_type": "code",
   "execution_count": 2,
   "metadata": {},
   "outputs": [],
   "source": [
    "#maze_grid, maze_image, grid  =  generate_random_maze(30)\n",
    "maze_grid, maze_image, grid = generate_example_maze(5)"
   ]
  },
  {
   "cell_type": "markdown",
   "metadata": {},
   "source": [
    "Das Labyrinth als Bild"
   ]
  },
  {
   "cell_type": "code",
   "execution_count": 3,
   "metadata": {},
   "outputs": [
    {
     "data": {
      "image/png": "[encoded data removed]",
      "text/plain": [
       "<PIL.Image.Image image mode=RGB size=400x400 at 0x1A6717E9148>"
      ]
     },
     "execution_count": 3,
     "metadata": {},
     "output_type": "execute_result"
    }
   ],
   "source": [
    "maze_image"
   ]
  },
  {
   "cell_type": "markdown",
   "metadata": {},
   "source": [
    "Das Labyrinth als Matrize"
   ]
  },
  {
   "cell_type": "code",
   "execution_count": 4,
   "metadata": {},
   "outputs": [],
   "source": [
    "#print_pretty(maze_grid)"
   ]
  },
  {
   "cell_type": "markdown",
   "metadata": {},
   "source": [
    "Das leere Grid"
   ]
  },
  {
   "cell_type": "code",
   "execution_count": 5,
   "metadata": {},
   "outputs": [],
   "source": [
    "#print_pretty(grid)"
   ]
  },
  {
   "cell_type": "markdown",
   "metadata": {},
   "source": [
    "# Aufgabe: Löse das Labyrinth"
   ]
  },
  {
   "cell_type": "code",
   "execution_count": 6,
   "metadata": {},
   "outputs": [
    {
     "name": "stdout",
     "output_type": "stream",
     "text": [
      "Path Length: 17\n",
      "Search Stepts: 32\n"
     ]
    },
    {
     "data": {
      "image/png": "[encoded data removed]",
      "text/plain": [
       "<PIL.Image.Image image mode=RGB size=400x400 at 0x1A67FD272C8>"
      ]
     },
     "execution_count": 6,
     "metadata": {},
     "output_type": "execute_result"
    }
   ],
   "source": [
    "solved_grid, path = bfs_solve_maze(maze_grid)\n",
    "plot_path(maze_grid, solved_grid, path)"
   ]
  },
  {
   "cell_type": "code",
   "execution_count": 7,
   "metadata": {},
   "outputs": [
    {
     "name": "stdout",
     "output_type": "stream",
     "text": [
      "Path Length: 17\n",
      "Search Stepts: 42\n"
     ]
    },
    {
     "data": {
      "image/png": "[encoded data removed]",
      "text/plain": [
       "<PIL.Image.Image image mode=RGB size=400x400 at 0x1A6717D30C8>"
      ]
     },
     "execution_count": 7,
     "metadata": {},
     "output_type": "execute_result"
    }
   ],
   "source": [
    "solved_grid, path = dfs_solve_maze(maze_grid)\n",
    "plot_path(maze_grid, solved_grid, path)"
   ]
  },
  {
   "cell_type": "code",
   "execution_count": null,
   "metadata": {},
   "outputs": [],
   "source": []
  },
  {
   "cell_type": "code",
   "execution_count": null,
   "metadata": {},
   "outputs": [],
   "source": []
  }
 ],
 "metadata": {
  "kernelspec": {
   "display_name": "Python 3",
   "language": "python",
   "name": "python3"
  },
  "language_info": {
   "codemirror_mode": {
    "name": "ipython",
    "version": 3
   },
   "file_extension": ".py",
   "mimetype": "text/x-python",
   "name": "python",
   "nbconvert_exporter": "python",
   "pygments_lexer": "ipython3",
   "version": "3.7.9"
  }
 },
 "nbformat": 4,
 "nbformat_minor": 4
}
