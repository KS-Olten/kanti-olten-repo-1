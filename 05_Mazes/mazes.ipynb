{
 "cells": [
  {
   "cell_type": "markdown",
   "metadata": {},
   "source": [
    "# Dokumentation"
   ]
  },
  {
   "cell_type": "markdown",
   "metadata": {},
   "source": [
    "generate_random_maze\n",
    "\n",
    "                         Erstelle ein zufälliges Labyringth. Der mitgegebene Parameter bestimmt die Seitenlänge\n",
    "\n",
    "                         Rückgabewerte:\n",
    "                         \n",
    "                                 maze_grid: Eine Liste aus Listen, welche das Labyrinth darstellt. Wände haben den Wert 1,\n",
    "                                            Korridore den Wert 0\n",
    "                                            \n",
    "                                 maze_image: Ein Bild, welches das Labyrinth darstellt\n",
    "                                 \n",
    "                                 grid:      Eine Liste aus Listen, welche nur die Werte 0 enthält (selbe Dimensionen wie\n",
    "                                            maze_grid)\n",
    "                                            \n",
    "generate_example_maze\n",
    "\n",
    "                         Erstelle eines von 3 Beispiellabyrinthen (Parameter kann die Werte 1 bis 3 annehmen)\n",
    "\n",
    "                         Rückgabewerte:\n",
    "                                 \n",
    "                                 Dieselben wie bei generate_random_maze\n",
    "                                 \n",
    "\n",
    "print_pretty          \n",
    "\n",
    "                         Gebe eine Liste aus Listen als Raster formatiert aus. Parameter muss eine Liste aus Listen sein\n",
    "\n",
    "\n",
    "bfs_solve_maze        \n",
    "\n",
    "                         Löse ein Labyrinth mit BFS. Der mitgegebene Parameter muss eine Liste aus Listen sein\n",
    "                         (s. Rückgabewerte aus generate_random_maze). Falls der Parameter steps=True mitgegeben wird,\n",
    "                         werden die einzelnen Schritte der BFS ausgegeben\n",
    "                         \n",
    "                         Rückgabewerte:\n",
    "                         \n",
    "                                 solved_grid: Eine Liste aus Liste mit dem durchsuchten Labyrinth\n",
    "                                 \n",
    "                                 path: Eine Liste aus Tupel, welche die Indexe aller Schritte von Ende zum Start\n",
    "                                       (oder umgekehrt) enthält\n",
    "                                       \n",
    "plot_path             \n",
    "\n",
    "                         Erstellt ein Bild aus dem maze_grid (s. generate_random_maze), dem durchsuchten grid und dem\n",
    "                         path (s. bfs_solve_maze)\n",
    "                                 \n"
   ]
  },
  {
   "cell_type": "markdown",
   "metadata": {},
   "source": [
    "# Lade Funktionen"
   ]
  },
  {
   "cell_type": "code",
   "execution_count": null,
   "metadata": {},
   "outputs": [],
   "source": [
    "from maze_generator import generate_example_maze, generate_random_maze, print_pretty, bfs_solve_maze, plot_path"
   ]
  },
  {
   "cell_type": "markdown",
   "metadata": {},
   "source": [
    "# Erstelle Labyringth"
   ]
  },
  {
   "cell_type": "code",
   "execution_count": null,
   "metadata": {},
   "outputs": [],
   "source": [
    "maze_grid, maze_image, grid  =  generate_random_maze(5)\n",
    "#maze_grid, maze_image, grid = generate_example_maze(1)"
   ]
  },
  {
   "cell_type": "markdown",
   "metadata": {},
   "source": [
    "Das Labyrinth als Bild"
   ]
  },
  {
   "cell_type": "code",
   "execution_count": null,
   "metadata": {},
   "outputs": [],
   "source": [
    "maze_image"
   ]
  },
  {
   "cell_type": "markdown",
   "metadata": {},
   "source": [
    "Das Labyrinth als Matrize"
   ]
  },
  {
   "cell_type": "code",
   "execution_count": null,
   "metadata": {},
   "outputs": [],
   "source": [
    "print_pretty(maze_grid)"
   ]
  },
  {
   "cell_type": "markdown",
   "metadata": {},
   "source": [
    "Das leere Grid"
   ]
  },
  {
   "cell_type": "code",
   "execution_count": null,
   "metadata": {},
   "outputs": [],
   "source": [
    "print_pretty(grid)"
   ]
  },
  {
   "cell_type": "markdown",
   "metadata": {},
   "source": [
    "# Aufgabe: Löse das Labyrinth"
   ]
  },
  {
   "cell_type": "code",
   "execution_count": null,
   "metadata": {},
   "outputs": [],
   "source": [
    "#solved_grid, path = bfs_solve_maze(maze_grid)"
   ]
  },
  {
   "cell_type": "code",
   "execution_count": null,
   "metadata": {},
   "outputs": [],
   "source": [
    "# TODO: Schreibe den Code, welcher das Labyrinth löst.\n",
    "# Am Ende soll mit der funktion plot_path der Lösungsweg dargestellt weren können\n",
    "\n",
    "maze_height = len(maze_grid)\n",
    "maze_width = len(maze_grid[0])\n",
    "\n",
    "start_x = 0\n",
    "start_y = 1\n",
    "\n",
    "end_x = maze_height - 1\n",
    "end_y = maze_width - 2"
   ]
  },
  {
   "cell_type": "markdown",
   "metadata": {},
   "source": [
    "# Stelle den Lösungsweg dar"
   ]
  },
  {
   "cell_type": "code",
   "execution_count": null,
   "metadata": {},
   "outputs": [],
   "source": [
    "plot_path(maze_grid, solved_grid, path)"
   ]
  }
 ],
 "metadata": {
  "kernelspec": {
   "display_name": "Python 3",
   "language": "python",
   "name": "python3"
  },
  "language_info": {
   "codemirror_mode": {
    "name": "ipython",
    "version": 3
   },
   "file_extension": ".py",
   "mimetype": "text/x-python",
   "name": "python",
   "nbconvert_exporter": "python",
   "pygments_lexer": "ipython3",
   "version": "3.7.9"
  }
 },
 "nbformat": 4,
 "nbformat_minor": 4
}
