{
 "cells": [
  {
   "cell_type": "code",
   "execution_count": 1,
   "metadata": {},
   "outputs": [],
   "source": [
    "from PIL import Image\n",
    "import numpy\n",
    "from maze_generator import generate_maze"
   ]
  },
  {
   "cell_type": "code",
   "execution_count": 2,
   "metadata": {},
   "outputs": [],
   "source": [
    "def print_table(listx):\n",
    "    \"\"\"returns a grid of a list of lists of numbers\n",
    "\n",
    "    list of list -> grid\"\"\"\n",
    "    for lists in listx:\n",
    "        for i in lists:\n",
    "            print(i,end='\\t')\n",
    "        print()\n",
    "    print('*************************************************************************************')\n"
   ]
  },
  {
   "cell_type": "code",
   "execution_count": 3,
   "metadata": {},
   "outputs": [
    {
     "data": {
      "image/png": "[encoded data removed]",
      "text/plain": [
       "<PIL.Image.Image image mode=RGB size=800x400 at 0x2682CC69E08>"
      ]
     },
     "execution_count": 3,
     "metadata": {},
     "output_type": "execute_result"
    }
   ],
   "source": [
    "maze_width = 200\n",
    "maze_height = int(maze_width/2)\n",
    "maze_image =  generate_maze(maze_width, maze_height)\n",
    "\n",
    "pix = numpy.array(maze_image)\n",
    "maze_matrix = []\n",
    "\n",
    "for row in pix:\n",
    "    maz_row = []\n",
    "    for pixel in row:\n",
    "        if pixel[0] == 255:\n",
    "            maz_row.append(0)\n",
    "        else:\n",
    "            maz_row.append(1)\n",
    "    maze_matrix.append(maz_row)\n",
    "\n",
    "image = maze_image.resize((800,400),Image.NEAREST)\n",
    "image"
   ]
  },
  {
   "cell_type": "code",
   "execution_count": null,
   "metadata": {},
   "outputs": [],
   "source": [
    "maze_height = len(maze_matrix)\n",
    "maze_width = len(maze_matrix[0])\n",
    "\n",
    "solved_maze = [[0 for x in range(maze_width)] for x in range(maze_height)]\n",
    "\n",
    "start_x = 0\n",
    "start_y = 1\n",
    "\n",
    "end_x = len(maze_matrix)-1\n",
    "end_y = len(maze_matrix[len(maze_matrix) - 1]) - 2\n",
    "\n",
    "solved_maze[start_x][start_y] = 1\n",
    "\n",
    "step = 0\n",
    "\n",
    "while solved_maze[end_x][end_y] == 0:\n",
    "    step = step + 1\n",
    "    for x in range(maze_height):\n",
    "        for y in range(maze_width):\n",
    "            if solved_maze[x][y] == step:\n",
    "                if (x - 1) >= 0 and maze_matrix[x-1][y] == 0 and solved_maze[x-1][y] == 0:\n",
    "                    solved_maze[x-1][y] = step + 1\n",
    "                if (x + 1) < maze_height and maze_matrix[x + 1][y] == 0 and solved_maze[x + 1][y] == 0:\n",
    "                    solved_maze[x+1][y] = step + 1\n",
    "                if (y - 1) >= 0 and maze_matrix[x][y-1] == 0 and solved_maze[x][y-1] == 0:\n",
    "                    solved_maze[x][y-1] = step + 1\n",
    "                if (y + 1) < maze_width and maze_matrix[x][y + 1] == 0 and solved_maze[x][y + 1] == 0:\n",
    "                    solved_maze[x][y+1] = step + 1\n",
    "    #print_table(solved_maze)"
   ]
  },
  {
   "cell_type": "code",
   "execution_count": null,
   "metadata": {},
   "outputs": [],
   "source": [
    "path = []\n",
    "x = end_x\n",
    "y = end_y\n",
    "\n",
    "step = solved_maze[x][y]\n",
    "path.append((x, y))\n",
    "\n",
    "while step > 1:\n",
    "    if x - 1 >= 0 and solved_maze[x-1][y] == step - 1:\n",
    "        x -= 1\n",
    "        path.append((x, y))\n",
    "        step -= 1\n",
    "    if x + 1 < maze_height and solved_maze[x+1][y] == step - 1:\n",
    "        x += 1\n",
    "        path.append((x, y))\n",
    "        step -= 1\n",
    "    if y - 1 >= 0 and solved_maze[x][y-1] == step - 1:\n",
    "        y -= 1\n",
    "        path.append((x, y))\n",
    "        step -= 1\n",
    "    if  y + 1 < maze_width and solved_maze[x][y+1] == step - 1:\n",
    "        y += 1\n",
    "        path.append((x, y))\n",
    "        step -= 1\n"
   ]
  },
  {
   "cell_type": "code",
   "execution_count": null,
   "metadata": {},
   "outputs": [],
   "source": [
    "im = Image.new(\"RGB\",(len(solved_maze[0]), len(solved_maze)))\n",
    "pixels = []\n",
    "\n",
    "for x in range(len(solved_maze)):\n",
    "    for y in range(len(solved_maze[0])):\n",
    "        pixel = (0, 0, 0)\n",
    "        if maze_matrix[x][y] == 0:\n",
    "            pixel = (255, 255, 255)\n",
    "                      \n",
    "        if solved_maze[x][y] > 0:\n",
    "            pixel = (0, 0, 255)\n",
    "        \n",
    "        if (x, y) in path:\n",
    "            pixel = (255, 0, 0)\n",
    "            \n",
    "        pixels.append(pixel)\n",
    "            \n",
    "\n",
    "\n",
    "im.putdata(pixels)\n",
    "image = im.resize((1000,500),Image.NEAREST)\n",
    "image"
   ]
  }
 ],
 "metadata": {
  "kernelspec": {
   "display_name": "Python 3",
   "language": "python",
   "name": "python3"
  },
  "language_info": {
   "codemirror_mode": {
    "name": "ipython",
    "version": 3
   },
   "file_extension": ".py",
   "mimetype": "text/x-python",
   "name": "python",
   "nbconvert_exporter": "python",
   "pygments_lexer": "ipython3",
   "version": "3.7.9"
  }
 },
 "nbformat": 4,
 "nbformat_minor": 4
}
