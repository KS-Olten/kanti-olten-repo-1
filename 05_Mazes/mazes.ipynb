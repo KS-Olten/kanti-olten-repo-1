{
 "cells": [
  {
   "cell_type": "code",
   "execution_count": 1,
   "metadata": {},
   "outputs": [],
   "source": [
    "from PIL import Image\n",
    "import numpy\n",
    "from maze_generator import generate_maze"
   ]
  },
  {
   "cell_type": "code",
   "execution_count": 2,
   "metadata": {},
   "outputs": [
    {
     "data": {
      "image/png": "[encoded data removed]",
      "text/plain": [
       "<PIL.Image.Image image mode=RGB size=800x400 at 0x233D0D45880>"
      ]
     },
     "execution_count": 2,
     "metadata": {},
     "output_type": "execute_result"
    }
   ],
   "source": [
    "maze_width = 5\n",
    "maze_height = int(maze_width/2)\n",
    "maze_image =  generate_maze(maze_width, maze_height)\n",
    "\n",
    "pix = numpy.array(maze_image)\n",
    "maze_matrix = []\n",
    "\n",
    "for row in pix:\n",
    "    maz_row = []\n",
    "    for pixel in row:\n",
    "        if pixel[0] == 255:\n",
    "            maz_row.append(0)\n",
    "        else:\n",
    "            maz_row.append(1)\n",
    "    maze_matrix.append(maz_row)\n",
    "\n",
    "image = maze_image.resize((800,400),Image.NEAREST)\n",
    "image"
   ]
  },
  {
   "cell_type": "code",
   "execution_count": 3,
   "metadata": {},
   "outputs": [
    {
     "data": {
      "text/plain": [
       "[[1, 0, 1, 1, 1, 1, 1, 1, 1, 1, 1],\n",
       " [1, 0, 0, 0, 0, 0, 1, 0, 0, 0, 1],\n",
       " [1, 1, 1, 1, 1, 0, 1, 0, 1, 0, 1],\n",
       " [1, 0, 0, 0, 0, 0, 0, 0, 1, 0, 1],\n",
       " [1, 1, 1, 1, 1, 1, 1, 1, 1, 0, 1]]"
      ]
     },
     "execution_count": 3,
     "metadata": {},
     "output_type": "execute_result"
    }
   ],
   "source": [
    "maze_matrix"
   ]
  },
  {
   "cell_type": "code",
   "execution_count": 5,
   "metadata": {},
   "outputs": [],
   "source": [
    "maze_height = len(maze_matrix)\n",
    "maze_width = len(maze_matrix[0])\n",
    "\n",
    "solved_maze = [[0 for x in range(maze_width)] for x in range(maze_height)]\n",
    "\n",
    "start_x = 0\n",
    "start_y = 1\n",
    "\n",
    "end_x = len(maze_matrix)-1\n",
    "end_y = len(maze_matrix[len(maze_matrix) - 1]) - 2\n",
    "\n",
    "solved_maze[start_x][start_y] = 1\n",
    "\n",
    "step = 0\n",
    "\n",
    "while solved_maze[end_x][end_y] == 0:\n",
    "    step = step + 1\n",
    "    for x in range(maze_height):\n",
    "        for y in range(maze_width):\n",
    "            if solved_maze[x][y] == step:\n",
    "                if (x - 1) > 0 and maze_matrix[x-1][y] == 0:\n",
    "                    solved_maze[x-1][y] = step + 1\n",
    "                if (x + 1) < maze_height and maze_matrix[x + 1][y] == 0:\n",
    "                    solved_maze[x+1][y] = step + 1\n",
    "                if (y - 1) > 0 and maze_matrix[x][y-1] == 0:\n",
    "                    solved_maze[x][y-1] = step + 1\n",
    "                if (y + 1) < maze_width and maze_matrix[x][y + 1] == 0:\n",
    "                    solved_maze[x][y+1] = step + 1\n",
    "\n",
    "solved_maze"
   ]
  },
  {
   "cell_type": "code",
   "execution_count": null,
   "metadata": {},
   "outputs": [],
   "source": [
    "\n",
    "\n",
    "\n",
    "    \n",
    "    "
   ]
  },
  {
   "cell_type": "code",
   "execution_count": null,
   "metadata": {},
   "outputs": [],
   "source": [
    "\n",
    "from PIL import Image, ImageDraw\n",
    "images = []\n",
    "\n",
    "a = maze_matrix\n",
    "zoom = 20\n",
    "borders = 6\n",
    "start_i, start_j = 0, 1\n",
    "end_i, end_j = len(maze_matrix)-1, len(maze_matrix[len(maze_matrix) - 1]) - 2\n",
    "\n",
    "\n",
    "def draw_matrix(a, the_path=[]):\n",
    "    im = Image.new('RGB', (zoom * len(a[0]), zoom * len(a)), (255, 255, 255))\n",
    "    draw = ImageDraw.Draw(im)\n",
    "    for i in range(len(a)):\n",
    "        for j in range(len(a[i])):\n",
    "            color = (255, 255, 255)\n",
    "            r = 0\n",
    "            if a[i][j] == 1:\n",
    "                color = (0, 0, 0)\n",
    "            if i == start_j and j == start_j:\n",
    "                color = (0, 255, 0)\n",
    "                r = borders\n",
    "            if i == end_i and j == end_j:\n",
    "                color = (0, 255, 0)\n",
    "                r = borders\n",
    "            draw.rectangle((j*zoom+r, i*zoom+r, j*zoom+zoom-r-1, i*zoom+zoom-r-1), fill=color)\n",
    "            if a[i][j] == 2:\n",
    "                r = borders\n",
    "                draw.ellipse((j * zoom + r, i * zoom + r, j * zoom + zoom - r - 1, i * zoom + zoom - r - 1),\n",
    "                               fill=(128, 128, 128))\n",
    "    for u in range(len(the_path)-1):\n",
    "        y = the_path[u][0]*zoom + int(zoom/2)\n",
    "        x = the_path[u][1]*zoom + int(zoom/2)\n",
    "        y1 = the_path[u+1][0]*zoom + int(zoom/2)\n",
    "        x1 = the_path[u+1][1]*zoom + int(zoom/2)\n",
    "        draw.line((x,y,x1,y1), fill=(255, 0, 0), width=5)\n",
    "    draw.rectangle((0, 0, zoom * len(a[0]), zoom * len(a)), outline=(0, 255, 0), width=2)\n",
    "    images.append(im)\n",
    "\n",
    "\n",
    "path_so_far = []\n",
    "\n",
    "\n",
    "def go_to(i, j):\n",
    "    global path_so_far, end_i, end_j, a, m\n",
    "    if i < 0 or j < 0 or i > len(a)-1 or j > len(a[0])-1:\n",
    "        return\n",
    "    # If we've already been there or there is a wall, quit\n",
    "    if (i, j) in path_so_far or a[i][j] > 0:\n",
    "        return\n",
    "    path_so_far.append((i, j))\n",
    "    a[i][j] = 2\n",
    "    draw_matrix(a, path_so_far)\n",
    "    if (i, j) == (end_i, end_j):\n",
    "        print(\"Found!\", path_so_far)\n",
    "        for animate in range(10):\n",
    "            if animate % 2 == 0:\n",
    "                draw_matrix(a, path_so_far)\n",
    "            else:\n",
    "                draw_matrix(a)\n",
    "        path_so_far.pop()\n",
    "        return\n",
    "    else:\n",
    "        go_to(i - 1, j)  # check top\n",
    "        go_to(i + 1, j)  # check bottom\n",
    "        go_to(i, j + 1)  # check right\n",
    "        go_to(i, j - 1)  # check left\n",
    "    path_so_far.pop()\n",
    "    draw_matrix(a, path_so_far)\n",
    "    return\n",
    "\n",
    "\n",
    "go_to(start_i, start_j)\n",
    "\n",
    "\n",
    "images[0].save('maze.gif',\n",
    "               save_all=True, append_images=images[1:],\n",
    "               optimize=False, duration=50, loop=0)"
   ]
  },
  {
   "cell_type": "code",
   "execution_count": null,
   "metadata": {},
   "outputs": [],
   "source": [
    "a"
   ]
  }
 ],
 "metadata": {
  "interpreter": {
   "hash": "1baa965d5efe3ac65b79dfc60c0d706280b1da80fedb7760faf2759126c4f253"
  },
  "kernelspec": {
   "display_name": "Python 3.8.2 64-bit",
   "name": "python3"
  },
  "language_info": {
   "codemirror_mode": {
    "name": "ipython",
    "version": 3
   },
   "file_extension": ".py",
   "mimetype": "text/x-python",
   "name": "python",
   "nbconvert_exporter": "python",
   "pygments_lexer": "ipython3",
   "version": "3.8.2"
  }
 },
 "nbformat": 4,
 "nbformat_minor": 4
}
